{
 "cells": [
  {
   "cell_type": "markdown",
   "id": "99508b8b",
   "metadata": {},
   "source": [
    "# Global Shark Attack"
   ]
  },
  {
   "cell_type": "markdown",
   "id": "fc27447b",
   "metadata": {},
   "source": [
    "## Restricciones\n",
    "\n",
    "No se pueden borrar columnas.\n",
    "\n",
    "No se puede borrar mas d1el 70% de las columnas."
   ]
  },
  {
   "cell_type": "markdown",
   "id": "3fe102c8",
   "metadata": {},
   "source": [
    "## Bonus\n",
    "\n",
    "Analisis de datos."
   ]
  },
  {
   "cell_type": "code",
   "execution_count": null,
   "id": "5cc89dff",
   "metadata": {},
   "outputs": [],
   "source": []
  }
 ],
 "metadata": {
  "kernelspec": {
   "display_name": "ironhack",
   "language": "python",
   "name": "ironhack"
  },
  "language_info": {
   "codemirror_mode": {
    "name": "ipython",
    "version": 3
   },
   "file_extension": ".py",
   "mimetype": "text/x-python",
   "name": "python",
   "nbconvert_exporter": "python",
   "pygments_lexer": "ipython3",
   "version": "3.10.0"
  }
 },
 "nbformat": 4,
 "nbformat_minor": 5
}
