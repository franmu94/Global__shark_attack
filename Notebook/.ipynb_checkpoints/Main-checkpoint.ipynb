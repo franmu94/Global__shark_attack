{
 "cells": [
  {
   "cell_type": "markdown",
   "id": "dafc570a",
   "metadata": {},
   "source": [
    "# Global Shark Attack"
   ]
  },
  {
   "cell_type": "markdown",
   "id": "0c49ff94",
   "metadata": {},
   "source": [
    "## Restricciones\n",
    "\n",
    "No se pueden borrar columnas.\n",
    "\n",
    "No se puede borrar mas d1el 70% de las columnas."
   ]
  },
  {
   "cell_type": "markdown",
   "id": "07037dd5",
   "metadata": {},
   "source": [
    "## Bonus\n",
    "\n",
    "Analisis de datos."
   ]
  },
  {
   "cell_type": "code",
   "execution_count": 1,
   "id": "d55f154b",
   "metadata": {},
   "outputs": [],
   "source": [
    "import pandas as pd\n",
    "pd.set_option('display.max_columns', None)\n",
    "\n",
    "import numpy as np\n",
    "\n",
    "import warnings\n",
    "warnings.simplefilter('ignore')"
   ]
  },
  {
   "cell_type": "code",
   "execution_count": null,
   "id": "c1e23833",
   "metadata": {},
   "outputs": [],
   "source": []
  }
 ],
 "metadata": {
  "kernelspec": {
   "display_name": "ironhack",
   "language": "python",
   "name": "ironhack"
  },
  "language_info": {
   "codemirror_mode": {
    "name": "ipython",
    "version": 3
   },
   "file_extension": ".py",
   "mimetype": "text/x-python",
   "name": "python",
   "nbconvert_exporter": "python",
   "pygments_lexer": "ipython3",
   "version": "3.10.0"
  }
 },
 "nbformat": 4,
 "nbformat_minor": 5
}
